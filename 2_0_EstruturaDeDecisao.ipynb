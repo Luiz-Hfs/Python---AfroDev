{
  "nbformat": 4,
  "nbformat_minor": 0,
  "metadata": {
    "colab": {
      "name": "2.0 - EstruturaDeDecisao.ipynb",
      "provenance": [],
      "collapsed_sections": [],
      "include_colab_link": true
    },
    "kernelspec": {
      "name": "python3",
      "display_name": "Python 3"
    },
    "language_info": {
      "name": "python"
    }
  },
  "cells": [
    {
      "cell_type": "markdown",
      "metadata": {
        "id": "view-in-github",
        "colab_type": "text"
      },
      "source": [
        "<a href=\"https://colab.research.google.com/github/Luiz-Hfs/Python---AfroDev/blob/main/2_0_EstruturaDeDecisao.ipynb\" target=\"_parent\"><img src=\"https://colab.research.google.com/assets/colab-badge.svg\" alt=\"Open In Colab\"/></a>"
      ]
    },
    {
      "cell_type": "markdown",
      "metadata": {
        "id": "G_OlOhEvJ36b"
      },
      "source": [
        "**Faça um Programa que peça dois números e imprima o maior deles.**"
      ]
    },
    {
      "cell_type": "code",
      "metadata": {
        "id": "362fBqdZJ9zi",
        "colab": {
          "base_uri": "https://localhost:8080/"
        },
        "outputId": "108fd87b-7461-4925-9572-4daddcdfdb28"
      },
      "source": [
        "n_primeiro = int(input('Digite o primeiro numero: '))\n",
        "n_segundo = int(input('Digite o segundo numero: '))\n",
        "\n",
        "if n_primeiro > n_segundo:\n",
        "  print('O maior numero é: {}'.format(n_primeiro))\n",
        "else:\n",
        "  print('O maior numero é: {}'.format(n_segundo))"
      ],
      "execution_count": null,
      "outputs": [
        {
          "output_type": "stream",
          "name": "stdout",
          "text": [
            "Digite o primeiro numero: 7\n",
            "Digite o segundo numero: 5\n",
            "O maior numero é: 7\n"
          ]
        }
      ]
    },
    {
      "cell_type": "markdown",
      "metadata": {
        "id": "NP80SIo_J-2s"
      },
      "source": [
        "**Faça um Programa que peça um valor e mostre na tela se o valor é positivo ou negativo.**\n"
      ]
    },
    {
      "cell_type": "code",
      "metadata": {
        "id": "dcIuf2HoKCBA",
        "colab": {
          "base_uri": "https://localhost:8080/"
        },
        "outputId": "cf4f8dea-ec89-480a-91de-0133e469b285"
      },
      "source": [
        "numero = int(input('Digite um valor:'))\n",
        "\n",
        "if numero >= 0:\n",
        "  print('Este numero é positivo!')\n",
        "else:\n",
        "  print('Este numero é negativo!')"
      ],
      "execution_count": null,
      "outputs": [
        {
          "output_type": "stream",
          "name": "stdout",
          "text": [
            "Digite um valor:8\n",
            "Este numero é positivo!\n"
          ]
        }
      ]
    },
    {
      "cell_type": "markdown",
      "metadata": {
        "id": "SKKJfiz5KChN"
      },
      "source": [
        "**Faça um Programa que verifique se uma letra digitada é \"F\" ou \"M\". Conforme a letra escrever: F - Feminino, M - Masculino, Sexo Inválido.**"
      ]
    },
    {
      "cell_type": "code",
      "metadata": {
        "id": "TTKGQOexKGhm",
        "colab": {
          "base_uri": "https://localhost:8080/"
        },
        "outputId": "c221b388-c3ba-4f9d-ad2e-d4c3164c8aff"
      },
      "source": [
        "sexo = input('Digite uma letra - F - Feminino ou M - Masculino:')\n",
        "\n",
        "if sexo == 'M':\n",
        "  print('Letra digitada é M - Masculino.')\n",
        "elif sexo == 'F':\n",
        "  print('Letra digitada é F - Feminino.')\n",
        "else:\n",
        "  print('Sexo Inválido')"
      ],
      "execution_count": null,
      "outputs": [
        {
          "output_type": "stream",
          "name": "stdout",
          "text": [
            "Digite uma letra - F - Feminino ou M - Masculino:f\n",
            "Sexo Inválido\n"
          ]
        }
      ]
    },
    {
      "cell_type": "markdown",
      "metadata": {
        "id": "ZWWd3bCEKHDo"
      },
      "source": [
        "**Faça um Programa que verifique se uma letra digitada é vogal ou consoante.**\n"
      ]
    },
    {
      "cell_type": "code",
      "metadata": {
        "id": "VH92aUqxKL0u",
        "colab": {
          "base_uri": "https://localhost:8080/"
        },
        "outputId": "022f661b-3c6b-4ed0-ca46-2f82baea9d0b"
      },
      "source": [
        "letra = input('Digite uma letra:')\n",
        "\n",
        "if letra in 'aeiou':\n",
        "  print('A eltra digitada é uma vogal!')\n",
        "else:\n",
        "  print('A letra digitada é uma consoante!')\n"
      ],
      "execution_count": null,
      "outputs": [
        {
          "output_type": "stream",
          "name": "stdout",
          "text": [
            "Digite uma letra:f\n",
            "A letra digitada é uma consoante!\n"
          ]
        }
      ]
    },
    {
      "cell_type": "markdown",
      "metadata": {
        "id": "-EWVLFREKOUm"
      },
      "source": [
        "**Faça um programa para a leitura de duas notas parciais de um aluno. O programa deve calcular a média alcançada por aluno e apresentar:**\n",
        "\n",
        "1. A mensagem \"Aprovado\", se a média alcançada for maior ou igual a sete;\n",
        "2. A mensagem \"Reprovado\", se a média for menor do que sete;\n",
        "3. A mensagem \"Aprovado com Distinção\", se a média for igual a dez.\n"
      ]
    },
    {
      "cell_type": "code",
      "metadata": {
        "id": "BOn_4lfHKlel",
        "colab": {
          "base_uri": "https://localhost:8080/"
        },
        "outputId": "33e02ca1-a552-47ad-ce84-da9a71efb5b0"
      },
      "source": [
        "nota1 = int(input('Digite sua nota:'))\n",
        "nota2 = int(input('Digite outra nota:'))\n",
        "\n",
        "if ((nota1 + nota2) / 2) == 10:\n",
        "  print('Aprovado com Distinção.')\n",
        "elif ((nota1 + nota2) / 2) >= 7:\n",
        "  print('Aprovado.')\n",
        "else:\n",
        "  print('Reprovado.')"
      ],
      "execution_count": null,
      "outputs": [
        {
          "output_type": "stream",
          "name": "stdout",
          "text": [
            "Digite sua nota:10\n",
            "Digite outra nota:10\n",
            "Aprovado com Distinção.\n"
          ]
        }
      ]
    },
    {
      "cell_type": "markdown",
      "metadata": {
        "id": "uJ-YSfcqKm9L"
      },
      "source": [
        "**Faça um Programa que leia três números e mostre o maior deles.**"
      ]
    },
    {
      "cell_type": "code",
      "metadata": {
        "id": "WLor82RpKqtA",
        "colab": {
          "base_uri": "https://localhost:8080/"
        },
        "outputId": "5be8f0ca-e0eb-4e34-9c33-8dfd47bf3fb0"
      },
      "source": [
        "numeros = []\n",
        "\n",
        "for numero in range(3):  \n",
        "  numeros.append(int(input('Digite um numero: ')))\n",
        "print('O numero maior digitado é de: {}'.format(max(numeros)))"
      ],
      "execution_count": null,
      "outputs": [
        {
          "output_type": "stream",
          "name": "stdout",
          "text": [
            "Digite um numero: 5\n",
            "Digite um numero: 8\n",
            "Digite um numero: 9\n",
            "O numero maior digitado é de: 9\n"
          ]
        }
      ]
    },
    {
      "cell_type": "markdown",
      "metadata": {
        "id": "S5FF994WKrQE"
      },
      "source": [
        "**Faça um Programa que leia três números e mostre o maior e o menor deles.**"
      ]
    },
    {
      "cell_type": "code",
      "metadata": {
        "id": "Ll3Xi6ztKuQz",
        "colab": {
          "base_uri": "https://localhost:8080/"
        },
        "outputId": "9b9dca9b-9203-4177-f595-b8dcf8056450"
      },
      "source": [
        "numeros = []\n",
        "\n",
        "for numero in range(3):  \n",
        "  numeros.append(int(input('Digite um numero: ')))\n",
        "print('O numero maior digitado é de: {} e o menor é de: {}'.format(max(numeros),(min(numeros))))"
      ],
      "execution_count": null,
      "outputs": [
        {
          "output_type": "stream",
          "name": "stdout",
          "text": [
            "Digite um numero: 5\n",
            "Digite um numero: 8\n",
            "Digite um numero: 2\n",
            "O numero maior digitado é de: 8 e o menor é de:2\n"
          ]
        }
      ]
    },
    {
      "cell_type": "markdown",
      "metadata": {
        "id": "bKJZhsWvKuxK"
      },
      "source": [
        "**Faça um programa que pergunte o preço de três produtos e informe qual produto você deve comprar, sabendo que a decisão é sempre pelo mais barato.**"
      ]
    },
    {
      "cell_type": "code",
      "metadata": {
        "id": "tEqrpqB4KyEk",
        "colab": {
          "base_uri": "https://localhost:8080/"
        },
        "outputId": "efe0aca9-0ac7-4367-b005-bac1337c454a"
      },
      "source": [
        "produtos = []\n",
        "\n",
        "for produto in range(3):  \n",
        "  produtos.append(float(input('Digite um valor de produto: ')))\n",
        "print('O produto com valor mais barato digitado é de: {} e o maior é de: {}'.format(min(produtos),(max(produtos))))"
      ],
      "execution_count": null,
      "outputs": [
        {
          "output_type": "stream",
          "name": "stdout",
          "text": [
            "Digite um valor de produto: 5\n",
            "Digite um valor de produto: 7.55\n",
            "Digite um valor de produto: 4\n",
            "O produto com valor mais barato digitado é de: 4.0 e o maior é de: 7.55\n"
          ]
        }
      ]
    },
    {
      "cell_type": "markdown",
      "metadata": {
        "id": "wnzNpHXjKykv"
      },
      "source": [
        "**Faça um Programa que leia três números e mostre-os em ordem decrescente.**"
      ]
    },
    {
      "cell_type": "code",
      "metadata": {
        "id": "BswFXISGK8hH",
        "colab": {
          "base_uri": "https://localhost:8080/"
        },
        "outputId": "6f51f564-7104-42c8-846b-765b784d4ca1"
      },
      "source": [
        "numeros = []\n",
        "\n",
        "for numero in range(3):  \n",
        "  numeros.append(int(input('Digite um numero: ')))\n",
        "sorted(numeros)"
      ],
      "execution_count": null,
      "outputs": [
        {
          "name": "stdout",
          "output_type": "stream",
          "text": [
            "Digite um numero: 9\n",
            "Digite um numero: 3\n",
            "Digite um numero: 6\n"
          ]
        },
        {
          "output_type": "execute_result",
          "data": {
            "text/plain": [
              "[3, 6, 9]"
            ]
          },
          "metadata": {},
          "execution_count": 59
        }
      ]
    },
    {
      "cell_type": "markdown",
      "metadata": {
        "id": "dZgiN0p-K9Oz"
      },
      "source": [
        "**Faça um Programa que pergunte em que turno você estuda. Peça para digitar M-matutino ou V-Vespertino ou N- Noturno. Imprima a mensagem \"Bom Dia!\", \"Boa Tarde!\" ou \"Boa Noite!\" ou \"Valor Inválido!\", conforme o caso.**"
      ]
    },
    {
      "cell_type": "code",
      "metadata": {
        "id": "m53GR8H7LA29"
      },
      "source": [
        "periodo = input('Digite a sua turma conforme a seguir(M-matutino ou V-Vespertino ou N- Noturno): ')\n",
        "periodo = periodo.upper()\n",
        "\n",
        "if periodo == ('M'):\n",
        "  print('Bom Dia!')\n",
        "elif periodo == ('V'):\n",
        "  print('Boa noite!')\n",
        "elif periodo == ('N'):\n",
        "  print('Boa Noite!')\n",
        "else:\n",
        "  print('Valor Inválido!')"
      ],
      "execution_count": null,
      "outputs": []
    },
    {
      "cell_type": "markdown",
      "metadata": {
        "id": "X8zxnsKeLBVL"
      },
      "source": [
        "**As Organizações Tabajara resolveram dar um aumento de salário aos seus colaboradores e lhe contraram para desenvolver o programa que calculará os reajustes.**\n",
        "\n",
        "**Faça um programa que recebe o salário de um colaborador e o reajuste segundo o seguinte critério, baseado no salário atual:**\n",
        "\n",
        "1. salários até 280,00 (incluindo): aumento de 20%\n",
        "\n",
        "2. salários entre 280,00 e 700,00: aumento de 15%\n",
        "\n",
        "3. salários entre 700,00 e 1500,00: aumento de 10%\n",
        "\n",
        "4. salários de R$ 1500,00 em diante: aumento de 5% Após o aumento ser realizado, informe na tela:\n",
        "\n",
        "- salário antes do reajuste;\n",
        "- percentual de aumento aplicado;\n",
        "- valor do aumento;\n",
        "- novo salário, após o aumento.\n"
      ]
    },
    {
      "cell_type": "code",
      "metadata": {
        "id": "UifAoSNjLbL3",
        "colab": {
          "base_uri": "https://localhost:8080/"
        },
        "outputId": "11fe31d0-725d-4431-acb7-cf25643e5b1c"
      },
      "source": [
        "salario = float(input('Digite seu salário: '))\n",
        "\n",
        "def aumento():\n",
        "  if salario <= 280:\n",
        "      s = 20\n",
        "  elif 280 < salario <= 700:\n",
        "      s = 15\n",
        "  elif 700 < salario <= 1500:\n",
        "      s = 10\n",
        "  else:\n",
        "      s = 5\n",
        "  return s\n",
        "\n",
        "percentual = aumento()\n",
        "reajuste = salario * percentual / 100\n",
        "n_salario = salario + reajuste\n",
        "\n",
        "\n",
        "print('- Salário antes do reajuste: R${:.2f} \\n- Percentual de aumento: {}% \\n- Valor do aumento: {:.2f} \\n- Novo salário: {:.2f}'.format(salario, percentual, reajuste, n_salario))"
      ],
      "execution_count": 17,
      "outputs": [
        {
          "output_type": "stream",
          "name": "stdout",
          "text": [
            "Digite seu salário: 450\n",
            "- Salário antes do reajuste: R$450.00 \n",
            "- Percentual de aumento: 15% \n",
            "- Valor do aumento: 67.50 \n",
            "- Novo salário: 517.50\n"
          ]
        }
      ]
    },
    {
      "cell_type": "markdown",
      "metadata": {
        "id": "iP1kUENOMgsL"
      },
      "source": [
        "**Faça um programa para o cálculo de uma folha de pagamento, sabendo que os descontos são do Imposto de Renda, que depende do salário bruto (conforme tabela abaixo) e 3% para o Sindicato e que o FGTS corresponde a 11% do Salário Bruto, mas não é descontado (é a empresa que deposita). O Salário Líquido corresponde ao Salário Bruto menos os descontos. O programa deverá pedir ao usuário o valor da sua hora e a quantidade de horas trabalhadas no mês.**\n",
        "\n",
        "Desconto do IR:\n",
        "\n",
        "1. Salário Bruto até 900 (inclusive) - isento\n",
        "\n",
        "2. Salário Bruto até 1500 (inclusive) - desconto de 5%\n",
        "\n",
        "3. Salário Bruto até 2500 (inclusive) - desconto de 10%\n",
        "\n",
        "4. Salário Bruto acima de 2500 - desconto de 20% Imprima na tela as informações, dispostas conforme o exemplo abaixo. No exemplo o valor da hora é 5 e a quantidade de hora é 220.\n",
        "\n",
        "*Exemplo:*\n",
        "```\n",
        "Salário Bruto: (5 * 220)          : R$ 1100,00\n",
        "  (-) IR (5%)                     : R$   55,00  \n",
        "  (-) INSS ( 10%)                 : R$  110,00\n",
        "  FGTS (11%)                      : R$  121,00\n",
        "  Total de descontos              : R$  165,00\n",
        "  Salário Liquido                 : R$  935,00\n",
        "\n",
        "```\n",
        "\n"
      ]
    },
    {
      "cell_type": "code",
      "metadata": {
        "id": "Wq6u_3SSM4pa"
      },
      "source": [
        ""
      ],
      "execution_count": 18,
      "outputs": []
    },
    {
      "cell_type": "markdown",
      "metadata": {
        "id": "64n0wAXxNiUr"
      },
      "source": [
        "**Faça um Programa que leia um número e exiba o dia correspondente da semana. (1-Domingo, 2- Segunda, etc.), se digitar outro valor deve aparecer valor inválido.**"
      ]
    },
    {
      "cell_type": "code",
      "metadata": {
        "id": "yhH7ivq6NoQW"
      },
      "source": [
        ""
      ],
      "execution_count": null,
      "outputs": []
    },
    {
      "cell_type": "markdown",
      "metadata": {
        "id": "YF4LUV_GNpzj"
      },
      "source": [
        "**Faça um programa que lê as duas notas parciais obtidas por um aluno numa disciplina ao longo de um semestre, e calcule a sua média. A atribuição de conceitos obedece à tabela abaixo:**\n",
        "\n",
        "```  \n",
        "Média de Aproveitamento  Conceito\n",
        "  Entre 9.0 e 10.0        A\n",
        "  Entre 7.5 e 9.0         B\n",
        "  Entre 6.0 e 7.5         C\n",
        "  Entre 4.0 e 6.0         D\n",
        "  Entre 4.0 e zero        E\n",
        "```\n",
        "\n",
        "*O algoritmo deve mostrar na tela as notas, a média, o conceito correspondente e a mensagem “APROVADO” se o conceito for A, B ou C ou “REPROVADO” se o conceito for D ou E.*"
      ]
    },
    {
      "cell_type": "code",
      "metadata": {
        "id": "vYrbdnTHN5Wp"
      },
      "source": [
        ""
      ],
      "execution_count": null,
      "outputs": []
    },
    {
      "cell_type": "markdown",
      "metadata": {
        "id": "HOYZSQ3cN7Ge"
      },
      "source": [
        "**Faça um Programa que peça os 3 lados de um triângulo. O programa deverá informar se os valores podem ser um triângulo. Indique, caso os lados formem um triângulo, se o mesmo é: equilátero, isósceles ou escaleno.**\n",
        "\n",
        "**Dicas:**\n",
        "1. Três lados formam um triângulo quando a soma de quaisquer dois lados for maior que o terceiro;\n",
        "\n",
        "2. Triângulo Equilátero: três lados iguais;\n",
        "\n",
        "3. Triângulo Isósceles: quaisquer dois lados iguais;\n",
        "\n",
        "4. Triângulo Escaleno: três lados diferentes;"
      ]
    },
    {
      "cell_type": "code",
      "metadata": {
        "id": "akr8zFWaOIV6"
      },
      "source": [
        ""
      ],
      "execution_count": null,
      "outputs": []
    },
    {
      "cell_type": "markdown",
      "metadata": {
        "id": "7qb30_aDOXQV"
      },
      "source": [
        "**Faça um programa que calcule as raízes de uma equação do segundo grau, na forma ax2 + bx + c. O programa deverá pedir os valores de a, b e c e fazer as consistências, informando ao usuário nas seguintes situações:**\n",
        "\n",
        "1. Se o usuário informar o valor de A igual a zero, a equação não é do segundo grau e o programa não deve fazer pedir os demais valores, sendo encerrado;\n",
        "2. Se o delta calculado for negativo, a equação não possui raizes reais. Informe ao usuário e encerre o programa;\n",
        "3. Se o delta calculado for igual a zero a equação possui apenas uma raiz real; informe-a ao usuário;\n",
        "4. Se o delta for positivo, a equação possui duas raiz reais; informe-as ao usuário;\n"
      ]
    },
    {
      "cell_type": "code",
      "metadata": {
        "id": "tmqHR-FGOlHx"
      },
      "source": [
        ""
      ],
      "execution_count": null,
      "outputs": []
    },
    {
      "cell_type": "markdown",
      "metadata": {
        "id": "KnFPLrs6OK-U"
      },
      "source": [
        "**Faça um Programa que peça um número correspondente a um determinado ano e em seguida informe se este ano é ou não bissexto.**"
      ]
    },
    {
      "cell_type": "code",
      "metadata": {
        "id": "8fGApHJDOovT"
      },
      "source": [
        ""
      ],
      "execution_count": null,
      "outputs": []
    },
    {
      "cell_type": "markdown",
      "metadata": {
        "id": "n7hGQuDdOqlj"
      },
      "source": [
        "**Faça um Programa que peça uma data no formato dd/mm/aaaa e determine se a mesma é uma data válida.**\n"
      ]
    },
    {
      "cell_type": "code",
      "metadata": {
        "id": "iNgmj-yVOvFW"
      },
      "source": [
        ""
      ],
      "execution_count": null,
      "outputs": []
    },
    {
      "cell_type": "markdown",
      "metadata": {
        "id": "Wqn9Zv1dOv2x"
      },
      "source": [
        "**Faça um Programa que leia um número inteiro menor que 1000 e imprima a quantidade de centenas, dezenas e unidades do mesmo.**\n",
        "\n",
        "**Observando os termos no plural a colocação do \"e\", da vírgula entre outros.**\n",
        "\n",
        "Exemplo:\n",
        "\n",
        "\n",
        "```\n",
        "326 = 3 centenas, 2 dezenas e 6 unidades\n",
        "\n",
        "12 = 1 dezena e 2 unidades Testar com: 326, 300, 100, 320, 310,305, 301, 101, 311, 111, 25, 20, 10, 21, 11, 1, 7 e 16\n",
        "\n",
        "```\n",
        "\n",
        "\n",
        "\n"
      ]
    },
    {
      "cell_type": "code",
      "metadata": {
        "id": "LY1evJaKPKlL"
      },
      "source": [
        ""
      ],
      "execution_count": null,
      "outputs": []
    },
    {
      "cell_type": "markdown",
      "metadata": {
        "id": "UVwXqCw3PPsE"
      },
      "source": [
        ""
      ]
    }
  ]
}