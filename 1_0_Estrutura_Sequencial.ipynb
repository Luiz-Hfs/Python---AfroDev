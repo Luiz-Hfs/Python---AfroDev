{
  "nbformat": 4,
  "nbformat_minor": 0,
  "metadata": {
    "colab": {
      "name": "1.0 - Estrutura Sequencial.ipynb",
      "provenance": [],
      "collapsed_sections": [],
      "include_colab_link": true
    },
    "kernelspec": {
      "name": "python3",
      "display_name": "Python 3"
    },
    "language_info": {
      "name": "python"
    }
  },
  "cells": [
    {
      "cell_type": "markdown",
      "metadata": {
        "id": "view-in-github",
        "colab_type": "text"
      },
      "source": [
        "<a href=\"https://colab.research.google.com/github/Luiz-Hfs/Python---AfroDev/blob/main/1_0_Estrutura_Sequencial.ipynb\" target=\"_parent\"><img src=\"https://colab.research.google.com/assets/colab-badge.svg\" alt=\"Open In Colab\"/></a>"
      ]
    },
    {
      "cell_type": "markdown",
      "metadata": {
        "id": "s3h4XTy42l6y"
      },
      "source": [
        "##Estrutura Sequencial"
      ]
    },
    {
      "cell_type": "markdown",
      "metadata": {
        "id": "xiXySkgH7dwe"
      },
      "source": [
        "**Faça um Programa que peça um número e então mostre a mensagem:**\n",
        "\n",
        "#####O número informado foi [número]."
      ]
    },
    {
      "cell_type": "code",
      "metadata": {
        "id": "rlRavVZi8bS0",
        "colab": {
          "base_uri": "https://localhost:8080/"
        },
        "outputId": "d988a6c6-8e8c-42e9-a2f6-41c325b9e492"
      },
      "source": [
        "valor = input()\n",
        "print(\"O número informado {}\".format(valor))"
      ],
      "execution_count": null,
      "outputs": [
        {
          "output_type": "stream",
          "name": "stdout",
          "text": [
            "10\n",
            "O número informado 10\n"
          ]
        }
      ]
    },
    {
      "cell_type": "markdown",
      "metadata": {
        "id": "_Kl-2zy-8cNv"
      },
      "source": [
        "**Faça um Programa que peça dois números e imprima a soma.**"
      ]
    },
    {
      "cell_type": "code",
      "metadata": {
        "id": "CJlgEdLe3KLC",
        "colab": {
          "base_uri": "https://localhost:8080/"
        },
        "outputId": "d8c28ef5-ba81-4600-a95d-2fae7ed1a349"
      },
      "source": [
        "primeiro_valor = int(input('Digite o primeiro valor: '))\n",
        "segundo_valor = int(input('Digite o segundo valor: '))\n",
        "\n",
        "print('A soma dos dois valores é: {}'.format(primeiro_valor + segundo_valor))"
      ],
      "execution_count": null,
      "outputs": [
        {
          "output_type": "stream",
          "name": "stdout",
          "text": [
            "Digite o primeiro valor: 5\n",
            "Digite o segundo valor: 5\n",
            "A soma dos dois valores é: 10\n"
          ]
        }
      ]
    },
    {
      "cell_type": "markdown",
      "metadata": {
        "id": "asSOCkv48hsr"
      },
      "source": [
        "**Faça um Programa que peça as 4 notas bimestrais e mostre a média.**"
      ]
    },
    {
      "cell_type": "code",
      "metadata": {
        "id": "q4BgyRbOR8xW",
        "colab": {
          "base_uri": "https://localhost:8080/"
        },
        "outputId": "7d5bf277-1855-4c7e-8adf-bcb5a501585b"
      },
      "source": [
        "n_1 = int(input('Digite a primeiro nota: '))\n",
        "n_2 = int(input('Digite a segunda nota: '))\n",
        "n_3 = int(input('Digite a terceira nota: '))\n",
        "n_4 = int(input('Digite a quarta nota: '))\n",
        "\n",
        "print('A medía das notas é de: {}'.format((n_1 + n_2 + n_3 + n_4)/4))"
      ],
      "execution_count": null,
      "outputs": [
        {
          "output_type": "stream",
          "name": "stdout",
          "text": [
            "Digite a primeiro nota: 7\n",
            "Digite a segunda nota: 7\n",
            "Digite a terceira nota: 8\n",
            "Digite a quarta nota: 9\n",
            "A medía nas notas é de: 7.75\n"
          ]
        }
      ]
    },
    {
      "cell_type": "markdown",
      "metadata": {
        "id": "ykRUV1Id8l8q"
      },
      "source": [
        "**Faça um Programa que converta metros para centímetros.**"
      ]
    },
    {
      "cell_type": "code",
      "metadata": {
        "id": "BHZPAdvt2aAq",
        "colab": {
          "base_uri": "https://localhost:8080/"
        },
        "outputId": "a82497da-4ea6-42df-dc0b-f72114287820"
      },
      "source": [
        "metros = int(input('Digite a quantidade de metros: '))\n",
        "\n",
        "print('A quantidade digitada em centímetros é: {}cm'.format(metros*100))"
      ],
      "execution_count": null,
      "outputs": [
        {
          "output_type": "stream",
          "name": "stdout",
          "text": [
            "Digite a quantidade de metros: 1\n",
            "A soma dos dois valores é: 100cm\n"
          ]
        }
      ]
    },
    {
      "cell_type": "markdown",
      "metadata": {
        "id": "H2UfEr398p_N"
      },
      "source": [
        "**Faça um Programa que peça o raio de um círculo, calcule e mostre sua área.**"
      ]
    },
    {
      "cell_type": "code",
      "metadata": {
        "id": "Fu1UfLa92p_O",
        "colab": {
          "base_uri": "https://localhost:8080/"
        },
        "outputId": "d292c4bf-f75b-4358-8dcf-22988d469b39"
      },
      "source": [
        "raio = int(input('Digite o valor do raio: '))\n",
        "\n",
        "print('O valor da área é de: {}m'.format((raio*raio)*33.14))"
      ],
      "execution_count": null,
      "outputs": [
        {
          "output_type": "stream",
          "name": "stdout",
          "text": [
            "Digite o valor do raio: 2\n",
            "O valor da área é de: 12.56m\n"
          ]
        }
      ]
    },
    {
      "cell_type": "markdown",
      "metadata": {
        "id": "vO9okcSq8txf"
      },
      "source": [
        "**Faça um Programa que calcule a área de um quadrado, em seguida mostre o dobro desta área para o usuário.**"
      ]
    },
    {
      "cell_type": "code",
      "metadata": {
        "id": "IrRGvkdl2sQ7",
        "colab": {
          "base_uri": "https://localhost:8080/"
        },
        "outputId": "93397759-b3ca-46aa-f5ef-6f65d7bfa995"
      },
      "source": [
        "quadrado = int(input('Digite o valor de um lado do quadrado: '))\n",
        "\n",
        "print('O valor da área é de: {}m'.format((quadrado*quadrado)*2))"
      ],
      "execution_count": null,
      "outputs": [
        {
          "output_type": "stream",
          "name": "stdout",
          "text": [
            "Digite o valor de um lado do quadrado: 5\n",
            "O valor da área é de: 50m\n"
          ]
        }
      ]
    },
    {
      "cell_type": "markdown",
      "metadata": {
        "id": "eQjAPxZV9Y_U"
      },
      "source": [
        "**Faça um Programa que pergunte quanto você ganha por hora e o número de horas trabalhadas no mês. Calcule e mostre o total do seu salário no referido mês.**"
      ]
    },
    {
      "cell_type": "code",
      "metadata": {
        "id": "Y0rYrzfh9Xw5",
        "colab": {
          "base_uri": "https://localhost:8080/"
        },
        "outputId": "d69eb754-60b8-4437-b6cf-54aceeb5bf4f"
      },
      "source": [
        "hora = int(input('Digite o valor de sua hora: '))\n",
        "horas = int(input('Digite a quantidade de horas trabalhadas: '))\n",
        "\n",
        "print('Seu salário referente a este mês é de: {}$'.format(hora * horas))"
      ],
      "execution_count": null,
      "outputs": [
        {
          "output_type": "stream",
          "name": "stdout",
          "text": [
            "Digite o valor de sua hora: 10\n",
            "Digite a quantidade de horas trabalhadas: 50\n",
            "Seu salário referente a este mês é de: 500$\n"
          ]
        }
      ]
    },
    {
      "cell_type": "markdown",
      "metadata": {
        "id": "rCvWU_do9eb7"
      },
      "source": [
        "**Faça um Programa que peça a temperatura em graus Fahrenheit, transforme e mostre a temperatura em graus Celsius.\n",
        "C = 5 * ((F-32) / 9).**"
      ]
    },
    {
      "cell_type": "code",
      "metadata": {
        "id": "6-F8JLJl9nWy",
        "colab": {
          "base_uri": "https://localhost:8080/"
        },
        "outputId": "a62e392e-7577-482c-e7c5-c7bcefc5ca66"
      },
      "source": [
        "fahrenheit = int(input('Digite a temperatura em fahrenheit: '))\n",
        "\n",
        "print('A temperatura em celsius é de: {:.3f}'.format((fahrenheit-32)*5/9))"
      ],
      "execution_count": null,
      "outputs": [
        {
          "output_type": "stream",
          "name": "stdout",
          "text": [
            "Digite a temperatura em fahrenheit: 40\n",
            "A temperatura em celsius é de: 4.444\n"
          ]
        }
      ]
    },
    {
      "cell_type": "markdown",
      "metadata": {
        "id": "wuNSOcEU9q82"
      },
      "source": [
        "**Faça um Programa que peça a temperatura em graus Celsius, transforme e mostre em graus Fahrenheit.**"
      ]
    },
    {
      "cell_type": "code",
      "metadata": {
        "id": "jFV9yA3W9vPA",
        "colab": {
          "base_uri": "https://localhost:8080/"
        },
        "outputId": "186eda2b-b096-499a-933d-a05bce6bfe02"
      },
      "source": [
        "celsius = int(input('Digite a temperatura em Celsius: '))\n",
        "\n",
        "print('A temperatura em fahrenheit é de: {:.3f}'.format((celsius *9/5)+32))"
      ],
      "execution_count": null,
      "outputs": [
        {
          "output_type": "stream",
          "name": "stdout",
          "text": [
            "Digite a temperatura em Celsius: 40\n",
            "A temperatura em fahrenheit é de: 104.000\n"
          ]
        }
      ]
    },
    {
      "cell_type": "markdown",
      "metadata": {
        "id": "nWNoPYmpYqiN"
      },
      "source": [
        ""
      ]
    },
    {
      "cell_type": "markdown",
      "metadata": {
        "id": "rHenay-u9wSe"
      },
      "source": [
        "**Faça um Programa que peça 2 números inteiros e um número real. Calcule e mostre:**\n",
        "\n",
        "1. Produto do dobro do primeiro com metade do segundo.\n",
        "2. Soma do triplo do primeiro com o terceiro.\n",
        "3. Terceiro elevado ao cubo.\n"
      ]
    },
    {
      "cell_type": "code",
      "metadata": {
        "id": "YnLaFKWE94sM",
        "colab": {
          "base_uri": "https://localhost:8080/"
        },
        "outputId": "53e07c35-b946-4d11-bfb7-806f7537338b"
      },
      "source": [
        "n_1 = int(input('Digite um numero inteiro: '))\n",
        "n_2 = int(input('Digite um numero inteiro: '))\n",
        "n_3 = float(input('Digite um numero real: '))\n",
        "\n",
        "print('Primeiro produto é de: {:.3f}'.format(((n_1 * n_1) / n_2)))\n",
        "print('Segundo produto é de: {:.3f}'.format(((n_1 * 3) + n_3)))\n",
        "print('Terceiro produto é de: {:.3f}'.format(n_3 * n_3 * n_3 ))"
      ],
      "execution_count": null,
      "outputs": [
        {
          "output_type": "stream",
          "name": "stdout",
          "text": [
            "Digite um numero inteiro: 10\n",
            "Digite um numero inteiro: 20\n",
            "Digite um numero real: 7\n",
            "Primeiro produto é de: 5.000\n",
            "Segundo produto é de: 37.000\n",
            "Terceiro produto é de: 343.000\n"
          ]
        }
      ]
    },
    {
      "cell_type": "markdown",
      "metadata": {
        "id": "Pp-vVCNC-M9n"
      },
      "source": [
        "**Tendo como dados de entrada a altura de uma pessoa, construa um algoritmo que calcule seu peso ideal, usando a seguinte fórmula: (72.7*altura) - 58**"
      ]
    },
    {
      "cell_type": "code",
      "metadata": {
        "id": "elpHlKHR-TEW",
        "colab": {
          "base_uri": "https://localhost:8080/"
        },
        "outputId": "74d9718e-7703-4c23-f7ed-e75b54c47010"
      },
      "source": [
        "altura = float(input('Digite sua altura: '))\n",
        "\n",
        "print('Seu peso ideal é de: {:.2f}kg'.format((72.7*altura)-58))"
      ],
      "execution_count": null,
      "outputs": [
        {
          "output_type": "stream",
          "name": "stdout",
          "text": [
            "Digite sua altura: 1.82\n",
            "Seu peso ideal é de: 74.31kg\n"
          ]
        }
      ]
    },
    {
      "cell_type": "markdown",
      "metadata": {
        "id": "9DDiGIya-Tu3"
      },
      "source": [
        "**Tendo como dado de entrada a altura (h) de uma pessoa, construa um algoritmo que calcule seu peso ideal, utilizando as seguintes fórmulas:**\n",
        "1. Para homens: (72.7*h) - 58\n",
        "2. Para mulheres: (62.1*h) - 44.7"
      ]
    },
    {
      "cell_type": "code",
      "metadata": {
        "id": "Yj8Aur0f-fot",
        "colab": {
          "base_uri": "https://localhost:8080/"
        },
        "outputId": "3da14e07-5042-4858-d872-92693848545d"
      },
      "source": [
        "sexo = input('Digite seu sexo com a letra (H):Homem ou (M):Mulher.')\n",
        "altura = float(input('Digite sua altura: '))\n",
        "\n",
        "if sexo == 'H':\n",
        "  print('Seu peso ideal é de: {:.2f}kg'.format((72.7*altura)-58))\n",
        "elif sexo == 'M':\n",
        "  print('Seu peso ideal é de: {:.2f}kg'.format((62.1*altura)-44.7))\n",
        "else:\n",
        "  print('Verifique os valores digitados!')"
      ],
      "execution_count": null,
      "outputs": [
        {
          "output_type": "stream",
          "name": "stdout",
          "text": [
            "Digite seu sexo com a letra (H):Homem ou (M):Mulher.H\n",
            "Digite sua altura: 1.82\n",
            "Seu peso ideal é de: 74.31kg\n"
          ]
        }
      ]
    },
    {
      "cell_type": "markdown",
      "metadata": {
        "id": "luMJHwGe-i8c"
      },
      "source": [
        "**João Papo-de-Pescador, homem de bem, comprou um microcomputador para controlar o rendimento diário de seu trabalho. Toda vez que ele traz um peso de peixes maior que o estabelecido pelo regulamento de pesca do estado de São Paulo (50 quilos) deve pagar uma multa de R$ 4,00 por quilo excedente. João precisa que você faça um programa que leia a variável peso (peso de peixes) e calcule o excesso. Gravar na variável excesso a quantidade de quilos além do limite e na variável multa o valor da multa que João deverá pagar. Imprima os dados do programa com as mensagens adequadas.**"
      ]
    },
    {
      "cell_type": "code",
      "metadata": {
        "id": "BOnYi7Ki-tlF",
        "colab": {
          "base_uri": "https://localhost:8080/"
        },
        "outputId": "542d7167-4fdb-43e7-b5ec-1770041c10ee"
      },
      "source": [
        "peso = float(input('Digite o peso de peixe:'))\n",
        "\n",
        "if peso > 50:\n",
        "  print('O peso de peixe é de: {}kg'.format(peso))\n",
        "  print('A multa que sera aplicada é de: {} Reais.'.format((peso-50)*4))\n",
        "else:\n",
        "  print('O peso de peixe é de: {}, e está dentro do estalecido.'.format(peso))"
      ],
      "execution_count": null,
      "outputs": [
        {
          "output_type": "stream",
          "name": "stdout",
          "text": [
            "Digite o peso de peixe:52\n",
            "O peso de peixe é de: 52.0kg\n",
            "A multa que sera aplicada é de: 8.0 Reais.\n"
          ]
        }
      ]
    },
    {
      "cell_type": "markdown",
      "metadata": {
        "id": "GOv4mU5T-uNy"
      },
      "source": [
        "**Faça um Programa que pergunte quanto você ganha por hora e o número de horas trabalhadas no mês. Calcule e mostre o total do seu salário no referido mês, sabendo-se que são descontados 11% para o Imposto de Renda, 8% para o INSS e 5% para o sindicato, faça um programa que nos dê:**\n",
        "\n",
        "1. salário bruto.\n",
        "2. quanto pagou ao INSS.\n",
        "3. quanto pagou ao sindicato.\n",
        "4. o salário líquido.\n",
        "5. calcule os descontos e o salário líquido, conforme a tabela abaixo:\n",
        "\n",
        "```\n",
        "+ Salário Bruto : R$\n",
        "- IR (11%) : R$\n",
        "- INSS (8%) : R$\n",
        "- Sindicato ( 5%) : R$\n",
        "= Salário Liquido : R$\n",
        "```\n",
        "*Obs.: Salário Bruto - Descontos = Salário Líquido.*\n"
      ]
    },
    {
      "cell_type": "code",
      "metadata": {
        "id": "BpJrcHmA_WeV",
        "colab": {
          "base_uri": "https://localhost:8080/"
        },
        "outputId": "c767327b-3adf-4a14-d2fb-b3488d866bd3"
      },
      "source": [
        "hora = int(input('Digite o valor de sua hora: '))\n",
        "horas = int(input('Digite a quantidade de horas trabalhadas: '))\n",
        "\n",
        "print('Seu salário liquido referente a este mês é de: {}$'.format((hora * horas) - ((hora * horas) * 0.24)))"
      ],
      "execution_count": null,
      "outputs": [
        {
          "output_type": "stream",
          "name": "stdout",
          "text": [
            "Digite o valor de sua hora: 25\n",
            "Digite a quantidade de horas trabalhadas: 180\n",
            "Seu salário liquido referente a este mês é de: 3420.0$\n"
          ]
        }
      ]
    },
    {
      "cell_type": "markdown",
      "metadata": {
        "id": "3wsz_2Tt_XIN"
      },
      "source": [
        "**Faça um programa para uma loja de tintas. O programa deverá pedir o tamanho em metros quadrados da área a ser pintada. Considere que a cobertura da tinta é de 1 litro para cada 3 metros quadrados e que a tinta é vendida em latas de 18 litros, que custam R$ 80,00. Informe ao usuário a quantidades de latas de tinta a serem compradas e o preço total.**"
      ]
    },
    {
      "cell_type": "code",
      "metadata": {
        "id": "sWHBxGcc_e9t",
        "colab": {
          "base_uri": "https://localhost:8080/"
        },
        "outputId": "84e040bb-4d81-4a2c-ed8c-6e58d48c9bb4"
      },
      "source": [
        "metros = int(input('Digite o tamanho da área a ser tintada:'))\n",
        "litros = metros/3\n",
        "\n",
        "print('A quantidade de latas usadas é: {} com o valor de: {:.2f}'.format((litros / 18), (litros / 18)* 80))\n",
        "\n"
      ],
      "execution_count": null,
      "outputs": [
        {
          "output_type": "stream",
          "name": "stdout",
          "text": [
            "Digite o tamanho da área a ser tintada:200\n",
            "A quantidade de latas usadas é: 3.703703703703704 com o valor de: 296.30\n"
          ]
        }
      ]
    },
    {
      "cell_type": "markdown",
      "metadata": {
        "id": "H32vYQcGAQV9"
      },
      "source": [
        "Faça um programa que peça o tamanho de um arquivo para download (em MB) e a velocidade de um link de Internet (em Mbps), calcule e informe o tempo aproximado de download do arquivo usando este link (em minutos)."
      ]
    },
    {
      "cell_type": "code",
      "metadata": {
        "id": "Ajfkz7TLAUIF",
        "colab": {
          "base_uri": "https://localhost:8080/"
        },
        "outputId": "5bbcd023-ecf6-4993-ccb5-e2be22c7bf6e"
      },
      "source": [
        "mb = float(input('Digite o tamanho do arquivo:'))\n",
        "mbps = float(input('Digite a velocidade do seu link:'))\n",
        "\n",
        "print('O tempo para baixar é de: {}s.'.format(mb / (mbps/8)))\n"
      ],
      "execution_count": null,
      "outputs": [
        {
          "output_type": "stream",
          "name": "stdout",
          "text": [
            "Digite o tamanho do arquivo:100\n",
            "Digite a velocidade do seu link:500\n",
            "O tempo para baixar é de: 1.6s.\n"
          ]
        }
      ]
    }
  ]
}